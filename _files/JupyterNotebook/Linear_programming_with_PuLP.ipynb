{
 "cells": [
  {
   "cell_type": "markdown",
   "id": "62c026e1-82bb-4d76-9d51-ae26b614c3a5",
   "metadata": {},
   "source": [
    "# Linear Programming with PuLP\n",
    "## 1. 分析问题，定义已知量\n",
    "\n",
    "**目标**: 以满足各个商店需求为前提，设计一个总花费最小的方案，包括:\n",
    "- 决定是否在某地建设工厂\n",
    "- 需要从A工厂运输到B商店的货物量"
   ]
  },
  {
   "cell_type": "markdown",
   "id": "86c88cd7-2eae-422d-8779-21f62d0c8260",
   "metadata": {},
   "source": [
    "**已知**:\n",
    "- 四个场地的产能（supply）和建设费用（fixedCost）\n",
    "- 四个商店的需求（demand）\n",
    "- 从A工厂运输到B商店的单位运费（costs）"
   ]
  },
  {
   "cell_type": "code",
   "execution_count": 1,
   "id": "5f33f103-582a-476f-a596-112cf5c4f412",
   "metadata": {},
   "outputs": [],
   "source": [
    "plants = ['Dallas', 'Los Angeles', 'Seattle', 'Denver']\n",
    "supply = {'Dallas':900, 'Los Angeles':2400, 'Seattle':1300, 'Denver':1800}\n",
    "fixedCost = {'Dallas':75000, 'Los Angeles':72000, 'Seattle':100000, 'Denver':74000}"
   ]
  },
  {
   "cell_type": "code",
   "execution_count": 2,
   "id": "c3b2bb5a-94eb-4565-a850-291c482a1d63",
   "metadata": {},
   "outputs": [],
   "source": [
    "stores = ['Austin', 'Sacaramento', 'Philadelphia', 'Boulder']\n",
    "demand = {'Austin':1700, 'Sacaramento':1000, 'Philadelphia':1500, 'Boulder':1200}"
   ]
  },
  {
   "cell_type": "code",
   "execution_count": 3,
   "id": "6e394737-a4fb-4ce2-9983-6090331f84ef",
   "metadata": {},
   "outputs": [
    {
     "data": {
      "text/plain": [
       "{'Dallas': {'Austin': 2, 'Sacaramento': 7, 'Philadelphia': 4, 'Boulder': 6},\n",
       " 'Los Angeles': {'Austin': 6,\n",
       "  'Sacaramento': 3,\n",
       "  'Philadelphia': 4,\n",
       "  'Boulder': 5},\n",
       " 'Seattle': {'Austin': 8, 'Sacaramento': 4, 'Philadelphia': 6, 'Boulder': 5},\n",
       " 'Denver': {'Austin': 7, 'Sacaramento': 6, 'Philadelphia': 5, 'Boulder': 1}}"
      ]
     },
     "execution_count": 3,
     "metadata": {},
     "output_type": "execute_result"
    }
   ],
   "source": [
    "cost_matrix = [\n",
    "    #ATX #SAC #PHL #BU\n",
    "    [2,   7,   4,   6], #DAL\n",
    "    [6,   3,   4,   5], #LA\n",
    "    [8,   4,   6,   5], #SEA\n",
    "    [7,   6,   5,   1]  #DEN\n",
    "]\n",
    "costs = {plants[i]:{stores[j]:cost_matrix[i][j] for j in range(len(stores))} for i in range(len(plants))}\n",
    "costs"
   ]
  },
  {
   "cell_type": "code",
   "execution_count": 4,
   "id": "d50c34d6-8eb4-474a-85f5-ed7a2835aa21",
   "metadata": {
    "scrolled": true,
    "tags": []
   },
   "outputs": [
    {
     "data": {
      "text/plain": [
       "[('Dallas', 'Austin'),\n",
       " ('Dallas', 'Sacaramento'),\n",
       " ('Dallas', 'Philadelphia'),\n",
       " ('Dallas', 'Boulder'),\n",
       " ('Los Angeles', 'Austin'),\n",
       " ('Los Angeles', 'Sacaramento'),\n",
       " ('Los Angeles', 'Philadelphia'),\n",
       " ('Los Angeles', 'Boulder'),\n",
       " ('Seattle', 'Austin'),\n",
       " ('Seattle', 'Sacaramento'),\n",
       " ('Seattle', 'Philadelphia'),\n",
       " ('Seattle', 'Boulder'),\n",
       " ('Denver', 'Austin'),\n",
       " ('Denver', 'Sacaramento'),\n",
       " ('Denver', 'Philadelphia'),\n",
       " ('Denver', 'Boulder')]"
      ]
     },
     "execution_count": 4,
     "metadata": {},
     "output_type": "execute_result"
    }
   ],
   "source": [
    "# 定义路径来表示所有可能的运输情况\n",
    "routes = []\n",
    "for p in plants:\n",
    "    for s in stores:\n",
    "        routes.append((p,s))\n",
    "routes"
   ]
  },
  {
   "cell_type": "markdown",
   "id": "a203b8a9-c1c1-4e34-8bf8-4414cfca5ca2",
   "metadata": {},
   "source": [
    "## 2. 构建线性规划模型"
   ]
  },
  {
   "cell_type": "code",
   "execution_count": 5,
   "id": "5a27d5cd-b7bb-4839-a628-8e08df55a168",
   "metadata": {},
   "outputs": [],
   "source": [
    "import pulp"
   ]
  },
  {
   "cell_type": "markdown",
   "id": "0fef2921-e0b3-4f4e-bb43-450db6e84c30",
   "metadata": {},
   "source": [
    "### 2.1 优化变量\n",
    "```py\n",
    "pulp.LpVariable.dicts(\"变量名\", 变量_indices, lowBound, upperBound, 数据类型(整/浮点))\n",
    "```\n",
    "\n",
    "例如，如下的:\n",
    "- `trans` 定义了16个表示从A工厂运输到B商店的货物量（Transport_A_B）(>=0)\n",
    "- `build` 定义了4个表示A工厂是否建设的变量（Build_Plants_A）(=0 or 1)\n"
   ]
  },
  {
   "cell_type": "code",
   "execution_count": 6,
   "id": "06578e7b-42bd-48bb-a2c6-21aa5c49fd7a",
   "metadata": {
    "scrolled": true,
    "tags": []
   },
   "outputs": [
    {
     "data": {
      "text/plain": [
       "{'Dallas': {'Austin': Transport_Dallas_Austin,\n",
       "  'Sacaramento': Transport_Dallas_Sacaramento,\n",
       "  'Philadelphia': Transport_Dallas_Philadelphia,\n",
       "  'Boulder': Transport_Dallas_Boulder},\n",
       " 'Los Angeles': {'Austin': Transport_Los_Angeles_Austin,\n",
       "  'Sacaramento': Transport_Los_Angeles_Sacaramento,\n",
       "  'Philadelphia': Transport_Los_Angeles_Philadelphia,\n",
       "  'Boulder': Transport_Los_Angeles_Boulder},\n",
       " 'Seattle': {'Austin': Transport_Seattle_Austin,\n",
       "  'Sacaramento': Transport_Seattle_Sacaramento,\n",
       "  'Philadelphia': Transport_Seattle_Philadelphia,\n",
       "  'Boulder': Transport_Seattle_Boulder},\n",
       " 'Denver': {'Austin': Transport_Denver_Austin,\n",
       "  'Sacaramento': Transport_Denver_Sacaramento,\n",
       "  'Philadelphia': Transport_Denver_Philadelphia,\n",
       "  'Boulder': Transport_Denver_Boulder}}"
      ]
     },
     "execution_count": 6,
     "metadata": {},
     "output_type": "execute_result"
    }
   ],
   "source": [
    "trans = pulp.LpVariable.dicts(\"Transport\", (plants,stores), 0, None, pulp.LpInteger)\n",
    "build = pulp.LpVariable.dicts(\"Build_Plants\", plants, 0, 1, pulp.LpInteger)\n",
    "trans"
   ]
  },
  {
   "cell_type": "markdown",
   "id": "5cf99e18-a7e4-451e-a4d6-d6d85e26174d",
   "metadata": {},
   "source": [
    "### 2.2 优化目标\n",
    "\n",
    "优化目标: 最小化费用 = 工厂建设费 + 运费"
   ]
  },
  {
   "cell_type": "code",
   "execution_count": 7,
   "id": "1cd54e81-daeb-46cc-a335-8715d47ce0ac",
   "metadata": {},
   "outputs": [],
   "source": [
    "obj = \"\"\n",
    "\n",
    "for (p,s) in routes:\n",
    "    obj += trans[p][s] * costs[p][s]\n",
    "    \n",
    "for p in plants:\n",
    "    obj += fixedCost[p] * build[p]"
   ]
  },
  {
   "cell_type": "code",
   "execution_count": 8,
   "id": "caf45cd7-f99d-4c0e-858b-38a59adc3830",
   "metadata": {},
   "outputs": [
    {
     "data": {
      "text/plain": [
       "Supply_Demand:\n",
       "MINIMIZE\n",
       "75000*Build_Plants_Dallas + 74000*Build_Plants_Denver + 72000*Build_Plants_Los_Angeles + 100000*Build_Plants_Seattle + 2*Transport_Dallas_Austin + 6*Transport_Dallas_Boulder + 4*Transport_Dallas_Philadelphia + 7*Transport_Dallas_Sacaramento + 7*Transport_Denver_Austin + 1*Transport_Denver_Boulder + 5*Transport_Denver_Philadelphia + 6*Transport_Denver_Sacaramento + 6*Transport_Los_Angeles_Austin + 5*Transport_Los_Angeles_Boulder + 4*Transport_Los_Angeles_Philadelphia + 3*Transport_Los_Angeles_Sacaramento + 8*Transport_Seattle_Austin + 5*Transport_Seattle_Boulder + 6*Transport_Seattle_Philadelphia + 4*Transport_Seattle_Sacaramento + 0\n",
       "VARIABLES\n",
       "0 <= Build_Plants_Dallas <= 1 Integer\n",
       "0 <= Build_Plants_Denver <= 1 Integer\n",
       "0 <= Build_Plants_Los_Angeles <= 1 Integer\n",
       "0 <= Build_Plants_Seattle <= 1 Integer\n",
       "0 <= Transport_Dallas_Austin Integer\n",
       "0 <= Transport_Dallas_Boulder Integer\n",
       "0 <= Transport_Dallas_Philadelphia Integer\n",
       "0 <= Transport_Dallas_Sacaramento Integer\n",
       "0 <= Transport_Denver_Austin Integer\n",
       "0 <= Transport_Denver_Boulder Integer\n",
       "0 <= Transport_Denver_Philadelphia Integer\n",
       "0 <= Transport_Denver_Sacaramento Integer\n",
       "0 <= Transport_Los_Angeles_Austin Integer\n",
       "0 <= Transport_Los_Angeles_Boulder Integer\n",
       "0 <= Transport_Los_Angeles_Philadelphia Integer\n",
       "0 <= Transport_Los_Angeles_Sacaramento Integer\n",
       "0 <= Transport_Seattle_Austin Integer\n",
       "0 <= Transport_Seattle_Boulder Integer\n",
       "0 <= Transport_Seattle_Philadelphia Integer\n",
       "0 <= Transport_Seattle_Sacaramento Integer"
      ]
     },
     "execution_count": 8,
     "metadata": {},
     "output_type": "execute_result"
    }
   ],
   "source": [
    "prob = pulp.LpProblem(\"Supply_Demand\", pulp.LpMinimize)\n",
    "prob += obj, 'Total Cost'\n",
    "prob"
   ]
  },
  {
   "cell_type": "markdown",
   "id": "5031c5e0-7fc0-492b-87a6-628379e0a4bc",
   "metadata": {},
   "source": [
    "### 2.4 约束 Constraints\n",
    "\n",
    "主要有两个约束\n",
    "- 从工厂运出的货物量不能超过其产能\n",
    "- 商店接受的货物量不能低于其需求"
   ]
  },
  {
   "cell_type": "code",
   "execution_count": 9,
   "id": "c0f56446-1871-4f4e-bb80-279fc8bf2dac",
   "metadata": {},
   "outputs": [
    {
     "data": {
      "text/plain": [
       "Supply_Demand:\n",
       "MINIMIZE\n",
       "75000*Build_Plants_Dallas + 74000*Build_Plants_Denver + 72000*Build_Plants_Los_Angeles + 100000*Build_Plants_Seattle + 2*Transport_Dallas_Austin + 6*Transport_Dallas_Boulder + 4*Transport_Dallas_Philadelphia + 7*Transport_Dallas_Sacaramento + 7*Transport_Denver_Austin + 1*Transport_Denver_Boulder + 5*Transport_Denver_Philadelphia + 6*Transport_Denver_Sacaramento + 6*Transport_Los_Angeles_Austin + 5*Transport_Los_Angeles_Boulder + 4*Transport_Los_Angeles_Philadelphia + 3*Transport_Los_Angeles_Sacaramento + 8*Transport_Seattle_Austin + 5*Transport_Seattle_Boulder + 6*Transport_Seattle_Philadelphia + 4*Transport_Seattle_Sacaramento + 0\n",
       "SUBJECT TO\n",
       "Total_product_out_of_plant_Dallas: - 900 Build_Plants_Dallas\n",
       " + Transport_Dallas_Austin + Transport_Dallas_Boulder\n",
       " + Transport_Dallas_Philadelphia + Transport_Dallas_Sacaramento <= 0\n",
       "\n",
       "Total_product_out_of_plant_Los_Angeles: - 2400 Build_Plants_Los_Angeles\n",
       " + Transport_Los_Angeles_Austin + Transport_Los_Angeles_Boulder\n",
       " + Transport_Los_Angeles_Philadelphia + Transport_Los_Angeles_Sacaramento <= 0\n",
       "\n",
       "Total_product_out_of_plant_Seattle: - 1300 Build_Plants_Seattle\n",
       " + Transport_Seattle_Austin + Transport_Seattle_Boulder\n",
       " + Transport_Seattle_Philadelphia + Transport_Seattle_Sacaramento <= 0\n",
       "\n",
       "Total_product_out_of_plant_Denver: - 1800 Build_Plants_Denver\n",
       " + Transport_Denver_Austin + Transport_Denver_Boulder\n",
       " + Transport_Denver_Philadelphia + Transport_Denver_Sacaramento <= 0\n",
       "\n",
       "VARIABLES\n",
       "0 <= Build_Plants_Dallas <= 1 Integer\n",
       "0 <= Build_Plants_Denver <= 1 Integer\n",
       "0 <= Build_Plants_Los_Angeles <= 1 Integer\n",
       "0 <= Build_Plants_Seattle <= 1 Integer\n",
       "0 <= Transport_Dallas_Austin Integer\n",
       "0 <= Transport_Dallas_Boulder Integer\n",
       "0 <= Transport_Dallas_Philadelphia Integer\n",
       "0 <= Transport_Dallas_Sacaramento Integer\n",
       "0 <= Transport_Denver_Austin Integer\n",
       "0 <= Transport_Denver_Boulder Integer\n",
       "0 <= Transport_Denver_Philadelphia Integer\n",
       "0 <= Transport_Denver_Sacaramento Integer\n",
       "0 <= Transport_Los_Angeles_Austin Integer\n",
       "0 <= Transport_Los_Angeles_Boulder Integer\n",
       "0 <= Transport_Los_Angeles_Philadelphia Integer\n",
       "0 <= Transport_Los_Angeles_Sacaramento Integer\n",
       "0 <= Transport_Seattle_Austin Integer\n",
       "0 <= Transport_Seattle_Boulder Integer\n",
       "0 <= Transport_Seattle_Philadelphia Integer\n",
       "0 <= Transport_Seattle_Sacaramento Integer"
      ]
     },
     "execution_count": 9,
     "metadata": {},
     "output_type": "execute_result"
    }
   ],
   "source": [
    "for p in plants:\n",
    "    product_out = \"\"\n",
    "    for s in stores:\n",
    "        product_out += trans[p][s]\n",
    "    prob += product_out <= supply[p] * build[p], 'Total product out of plant_'+str(p)\n",
    "prob"
   ]
  },
  {
   "cell_type": "code",
   "execution_count": 10,
   "id": "40138aa0-d03a-48e9-897f-a64e4dc5857a",
   "metadata": {},
   "outputs": [
    {
     "data": {
      "text/plain": [
       "Supply_Demand:\n",
       "MINIMIZE\n",
       "75000*Build_Plants_Dallas + 74000*Build_Plants_Denver + 72000*Build_Plants_Los_Angeles + 100000*Build_Plants_Seattle + 2*Transport_Dallas_Austin + 6*Transport_Dallas_Boulder + 4*Transport_Dallas_Philadelphia + 7*Transport_Dallas_Sacaramento + 7*Transport_Denver_Austin + 1*Transport_Denver_Boulder + 5*Transport_Denver_Philadelphia + 6*Transport_Denver_Sacaramento + 6*Transport_Los_Angeles_Austin + 5*Transport_Los_Angeles_Boulder + 4*Transport_Los_Angeles_Philadelphia + 3*Transport_Los_Angeles_Sacaramento + 8*Transport_Seattle_Austin + 5*Transport_Seattle_Boulder + 6*Transport_Seattle_Philadelphia + 4*Transport_Seattle_Sacaramento + 0\n",
       "SUBJECT TO\n",
       "Total_product_out_of_plant_Dallas: - 900 Build_Plants_Dallas\n",
       " + Transport_Dallas_Austin + Transport_Dallas_Boulder\n",
       " + Transport_Dallas_Philadelphia + Transport_Dallas_Sacaramento <= 0\n",
       "\n",
       "Total_product_out_of_plant_Los_Angeles: - 2400 Build_Plants_Los_Angeles\n",
       " + Transport_Los_Angeles_Austin + Transport_Los_Angeles_Boulder\n",
       " + Transport_Los_Angeles_Philadelphia + Transport_Los_Angeles_Sacaramento <= 0\n",
       "\n",
       "Total_product_out_of_plant_Seattle: - 1300 Build_Plants_Seattle\n",
       " + Transport_Seattle_Austin + Transport_Seattle_Boulder\n",
       " + Transport_Seattle_Philadelphia + Transport_Seattle_Sacaramento <= 0\n",
       "\n",
       "Total_product_out_of_plant_Denver: - 1800 Build_Plants_Denver\n",
       " + Transport_Denver_Austin + Transport_Denver_Boulder\n",
       " + Transport_Denver_Philadelphia + Transport_Denver_Sacaramento <= 0\n",
       "\n",
       "Total_product_into_store_Austin: Transport_Dallas_Austin\n",
       " + Transport_Denver_Austin + Transport_Los_Angeles_Austin\n",
       " + Transport_Seattle_Austin >= 1700\n",
       "\n",
       "Total_product_into_store_Sacaramento: Transport_Dallas_Sacaramento\n",
       " + Transport_Denver_Sacaramento + Transport_Los_Angeles_Sacaramento\n",
       " + Transport_Seattle_Sacaramento >= 1000\n",
       "\n",
       "Total_product_into_store_Philadelphia: Transport_Dallas_Philadelphia\n",
       " + Transport_Denver_Philadelphia + Transport_Los_Angeles_Philadelphia\n",
       " + Transport_Seattle_Philadelphia >= 1500\n",
       "\n",
       "Total_product_into_store_Boulder: Transport_Dallas_Boulder\n",
       " + Transport_Denver_Boulder + Transport_Los_Angeles_Boulder\n",
       " + Transport_Seattle_Boulder >= 1200\n",
       "\n",
       "VARIABLES\n",
       "0 <= Build_Plants_Dallas <= 1 Integer\n",
       "0 <= Build_Plants_Denver <= 1 Integer\n",
       "0 <= Build_Plants_Los_Angeles <= 1 Integer\n",
       "0 <= Build_Plants_Seattle <= 1 Integer\n",
       "0 <= Transport_Dallas_Austin Integer\n",
       "0 <= Transport_Dallas_Boulder Integer\n",
       "0 <= Transport_Dallas_Philadelphia Integer\n",
       "0 <= Transport_Dallas_Sacaramento Integer\n",
       "0 <= Transport_Denver_Austin Integer\n",
       "0 <= Transport_Denver_Boulder Integer\n",
       "0 <= Transport_Denver_Philadelphia Integer\n",
       "0 <= Transport_Denver_Sacaramento Integer\n",
       "0 <= Transport_Los_Angeles_Austin Integer\n",
       "0 <= Transport_Los_Angeles_Boulder Integer\n",
       "0 <= Transport_Los_Angeles_Philadelphia Integer\n",
       "0 <= Transport_Los_Angeles_Sacaramento Integer\n",
       "0 <= Transport_Seattle_Austin Integer\n",
       "0 <= Transport_Seattle_Boulder Integer\n",
       "0 <= Transport_Seattle_Philadelphia Integer\n",
       "0 <= Transport_Seattle_Sacaramento Integer"
      ]
     },
     "execution_count": 10,
     "metadata": {},
     "output_type": "execute_result"
    }
   ],
   "source": [
    "for s in stores:\n",
    "    product_in = \"\"\n",
    "    for p in plants:\n",
    "        product_in += trans[p][s]\n",
    "    prob += product_in >= demand[s], 'Total product into store_'+str(s)\n",
    "prob"
   ]
  },
  {
   "cell_type": "markdown",
   "id": "aa374b3c-2a12-4f89-9e5b-f620e5120704",
   "metadata": {},
   "source": [
    "### 2.5 求解规划问题"
   ]
  },
  {
   "cell_type": "code",
   "execution_count": 11,
   "id": "1881bb6e-b87c-4c16-96bb-02ba7908ba90",
   "metadata": {},
   "outputs": [
    {
     "name": "stdout",
     "output_type": "stream",
     "text": [
      "Status:  Optimal\n",
      "Build_Plants_Dallas = 0.0\n",
      "Build_Plants_Denver = 1.0\n",
      "Build_Plants_Los_Angeles = 1.0\n",
      "Build_Plants_Seattle = 1.0\n",
      "Transport_Dallas_Austin = 0.0\n",
      "Transport_Dallas_Boulder = 0.0\n",
      "Transport_Dallas_Philadelphia = 0.0\n",
      "Transport_Dallas_Sacaramento = 0.0\n",
      "Transport_Denver_Austin = 600.0\n",
      "Transport_Denver_Boulder = 1200.0\n",
      "Transport_Denver_Philadelphia = 0.0\n",
      "Transport_Denver_Sacaramento = 0.0\n",
      "Transport_Los_Angeles_Austin = 900.0\n",
      "Transport_Los_Angeles_Boulder = 0.0\n",
      "Transport_Los_Angeles_Philadelphia = 1500.0\n",
      "Transport_Los_Angeles_Sacaramento = 0.0\n",
      "Transport_Seattle_Austin = 200.0\n",
      "Transport_Seattle_Boulder = 0.0\n",
      "Transport_Seattle_Philadelphia = 0.0\n",
      "Transport_Seattle_Sacaramento = 1000.0\n"
     ]
    }
   ],
   "source": [
    "# 求解各变量的值\n",
    "prob.solve()\n",
    "print(\"Status: \", pulp.LpStatus[prob.status])\n",
    "for v in prob.variables():\n",
    "    print(v.name, '=', v.varValue)"
   ]
  },
  {
   "cell_type": "code",
   "execution_count": 12,
   "id": "93b2d9ba-c8e1-4382-adb1-e1dcb5c3de7c",
   "metadata": {},
   "outputs": [
    {
     "data": {
      "text/plain": [
       "268400.0"
      ]
     },
     "execution_count": 12,
     "metadata": {},
     "output_type": "execute_result"
    }
   ],
   "source": [
    "# 求解目标优化值\n",
    "pulp.value(prob.objective)"
   ]
  }
 ],
 "metadata": {
  "kernelspec": {
   "display_name": "Python 3.8.8 ('base')",
   "language": "python",
   "name": "python3"
  },
  "language_info": {
   "codemirror_mode": {
    "name": "ipython",
    "version": 3
   },
   "file_extension": ".py",
   "mimetype": "text/x-python",
   "name": "python",
   "nbconvert_exporter": "python",
   "pygments_lexer": "ipython3",
   "version": "3.8.8"
  },
  "vscode": {
   "interpreter": {
    "hash": "40d3a090f54c6569ab1632332b64b2c03c39dcf918b08424e98f38b5ae0af88f"
   }
  }
 },
 "nbformat": 4,
 "nbformat_minor": 5
}
